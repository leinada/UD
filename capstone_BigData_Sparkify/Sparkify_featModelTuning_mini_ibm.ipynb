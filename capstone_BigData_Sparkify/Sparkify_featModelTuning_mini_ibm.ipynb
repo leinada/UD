{
 "cells": [
  {
   "cell_type": "markdown",
   "metadata": {},
   "source": [
    "# Sparkify: Feature extraction and ML model tuning\n"
   ]
  },
  {
   "cell_type": "markdown",
   "metadata": {},
   "source": [
    "In this notebook we do the feature extraction and model tuning  with the mini data set (128MB)"
   ]
  },
  {
   "cell_type": "code",
   "execution_count": 1,
   "metadata": {},
   "outputs": [
    {
     "name": "stdout",
     "output_type": "stream",
     "text": [
      "Waiting for a Spark session to start...\n",
      "Spark Initialization Done! ApplicationId = app-20190613184922-0002\n",
      "KERNEL_ID = 38ba0b58-0132-42a1-9522-dd0b9a7dbfd7\n"
     ]
    }
   ],
   "source": [
    "import ibmos2spark\n",
    "# @hidden_cell\n",
    "credentials = {\n",
    "    'endpoint': 'https://s3-api.us-geo.objects.service.networklayer.com',\n",
    "    'service_id': 'iam-ServiceId-xxxx,\n",
    "    'iam_service_endpoint': 'https://iam.bluemix.net/oidc/token',\n",
    "    'api_key': 'fH1YFBK2C84k1Hwxxxxx'\n",
    "}\n",
    "\n",
    "configuration_name = 'os_483417c1de3948ecb5d662217xxxxx'\n",
    "cos = ibmos2spark.CloudObjectStorage(sc, credentials, configuration_name, 'bluemix_cos')\n",
    "\n",
    "from pyspark.sql import SparkSession\n",
    "spark = SparkSession.builder.getOrCreate()\n",
    "# Since JSON data can be semi-structured and contain additional metadata, it is possible that you might face issues with the DataFrame layout.\n",
    "# Please read the documentation of 'SparkSession.read()' to learn more about the possibilities to adjust the data loading.\n",
    "# PySpark documentation: http://spark.apache.org/docs/2.0.2/api/python/pyspark.sql.html#pyspark.sql.DataFrameReader.json\n",
    "\n",
    "# df_data_1 = spark.read.json(cos.url('medium-sparkify-event-data.json', 'sparkify-donotdelete-pr-oamce1b1oti8al'))\n",
    "# df_data_1.take(5)\n"
   ]
  },
  {
   "cell_type": "code",
   "execution_count": 2,
   "metadata": {},
   "outputs": [],
   "source": [
    "# import libraries\n",
    "from pyspark.sql import SparkSession\n",
    "\n",
    "from pyspark.sql.functions import udf, desc, asc, avg, col, concat, desc, explode, lit, min, max, split,count\n",
    "from pyspark.sql.types import StringType\n",
    "from pyspark.sql.types import IntegerType\n",
    "from pyspark.sql.functions import sum as Fsum\n",
    "\n",
    "import datetime\n",
    "from time import time\n",
    "\n",
    "from pyspark.sql import Window\n",
    "import pandas as pd\n",
    "import numpy as np\n",
    "from matplotlib import pyplot as plt\n",
    "import seaborn as sns\n",
    "%matplotlib inline\n",
    "\n",
    "import re\n",
    "\n",
    "from functools import reduce"
   ]
  },
  {
   "cell_type": "code",
   "execution_count": 3,
   "metadata": {},
   "outputs": [],
   "source": [
    "# ML imports\n",
    "from pyspark.ml.feature import Normalizer, StandardScaler, VectorAssembler,StringIndexer\n",
    "from pyspark.ml.classification import LogisticRegression, GBTClassifier, RandomForestClassifier,LinearSVC \n",
    "from pyspark.ml.regression import LinearRegression\n",
    "from pyspark.ml.evaluation import MulticlassClassificationEvaluator\n",
    "from pyspark.ml.tuning import CrossValidator, ParamGridBuilder\n",
    "from pyspark.ml import Pipeline"
   ]
  },
  {
   "cell_type": "code",
   "execution_count": 4,
   "metadata": {},
   "outputs": [],
   "source": [
    "# create a Spark session\n",
    "spark = SparkSession.builder.appName(\"Sparkify\").getOrCreate()"
   ]
  },
  {
   "cell_type": "code",
   "execution_count": 5,
   "metadata": {},
   "outputs": [
    {
     "data": {
      "text/plain": [
       "DataFrame[artist: string, auth: string, firstName: string, gender: string, itemInSession: bigint, lastName: string, length: double, level: string, location: string, method: string, page: string, registration: bigint, sessionId: bigint, song: string, status: bigint, ts: bigint, userAgent: string, userId: string]"
      ]
     },
     "execution_count": 5,
     "metadata": {},
     "output_type": "execute_result"
    }
   ],
   "source": [
    "df = spark.read.json(cos.url('mini_sparkify_event_data.json', 'sparkify-donotdelete-pr-oamce1b1oti8al'))                        \n",
    "df.persist()"
   ]
  },
  {
   "cell_type": "code",
   "execution_count": 6,
   "metadata": {},
   "outputs": [],
   "source": [
    "def cleanDF(df):\n",
    "    '''\n",
    "    Clean data frame to avoid empty values.\n",
    "    \n",
    "    INPUT: dataframe\n",
    "    \n",
    "    OUTPUT: cleaned dataframe\n",
    "    '''\n",
    "    df_cleaned = df.filter(df[\"userId\"] != \"\")\n",
    "    \n",
    "    return df_cleaned"
   ]
  },
  {
   "cell_type": "code",
   "execution_count": 7,
   "metadata": {},
   "outputs": [
    {
     "name": "stdout",
     "output_type": "stream",
     "text": [
      "Count after cleaning (empty values of) userid:  278154\n"
     ]
    }
   ],
   "source": [
    "df = cleanDF(df)\n",
    "print(\"Count after cleaning (empty values of) userid: \", df.count())"
   ]
  },
  {
   "cell_type": "code",
   "execution_count": 8,
   "metadata": {},
   "outputs": [
    {
     "data": {
      "text/plain": [
       "artist           228108\n",
       "auth             278154\n",
       "firstName        278154\n",
       "gender           278154\n",
       "itemInSession    278154\n",
       "lastName         278154\n",
       "length           228108\n",
       "level            278154\n",
       "location         278154\n",
       "method           278154\n",
       "page             278154\n",
       "registration     278154\n",
       "sessionId        278154\n",
       "song             228108\n",
       "status           278154\n",
       "ts               278154\n",
       "userAgent        278154\n",
       "userId           278154\n",
       "churn            278154\n",
       "dtype: int64"
      ]
     },
     "execution_count": 8,
     "metadata": {},
     "output_type": "execute_result"
    }
   ],
   "source": [
    "#define churn\n",
    "churnedUsers = df.filter(df.page==\"Cancellation Confirmation\").select(\"userId\").dropDuplicates()\n",
    "#make a list for userId with churned users\n",
    "churnedUsersList=[]\n",
    "for row in churnedUsers.collect():\n",
    "    churnedUsersList.append((row['userId']))  \n",
    "#make a df with info containing churned users                       \n",
    "df= df.withColumn(\"churn\", df.userId.isin(churnedUsersList))\n",
    "dfp=df.toPandas()\n",
    "dfp.count()"
   ]
  },
  {
   "cell_type": "markdown",
   "metadata": {},
   "source": [
    "### Define Churn\n"
   ]
  },
  {
   "cell_type": "code",
   "execution_count": 9,
   "metadata": {},
   "outputs": [],
   "source": [
    "#the timestamp in the data is ticks (ms)\n",
    "#timestamp func needs second as its input\n",
    "ticks_to_sec=1./1000. #convert from ms to seconds\n",
    "ticks_to_hours = ticks_to_sec/( 60.0 * 60.0)\n",
    "ticks_to_days = ticks_to_hours/24."
   ]
  },
  {
   "cell_type": "code",
   "execution_count": 10,
   "metadata": {},
   "outputs": [
    {
     "data": {
      "text/html": [
       "<div>\n",
       "<style scoped>\n",
       "    .dataframe tbody tr th:only-of-type {\n",
       "        vertical-align: middle;\n",
       "    }\n",
       "\n",
       "    .dataframe tbody tr th {\n",
       "        vertical-align: top;\n",
       "    }\n",
       "\n",
       "    .dataframe thead th {\n",
       "        text-align: right;\n",
       "    }\n",
       "</style>\n",
       "<table border=\"1\" class=\"dataframe\">\n",
       "  <thead>\n",
       "    <tr style=\"text-align: right;\">\n",
       "      <th></th>\n",
       "      <th>artist</th>\n",
       "      <th>auth</th>\n",
       "      <th>firstName</th>\n",
       "      <th>gender</th>\n",
       "      <th>itemInSession</th>\n",
       "      <th>lastName</th>\n",
       "      <th>length</th>\n",
       "      <th>level</th>\n",
       "      <th>location</th>\n",
       "      <th>method</th>\n",
       "      <th>...</th>\n",
       "      <th>registration</th>\n",
       "      <th>sessionId</th>\n",
       "      <th>song</th>\n",
       "      <th>status</th>\n",
       "      <th>ts</th>\n",
       "      <th>userAgent</th>\n",
       "      <th>userId</th>\n",
       "      <th>churn</th>\n",
       "      <th>event_time</th>\n",
       "      <th>reg_time</th>\n",
       "    </tr>\n",
       "  </thead>\n",
       "  <tbody>\n",
       "    <tr>\n",
       "      <th>0</th>\n",
       "      <td>Martha Tilston</td>\n",
       "      <td>Logged In</td>\n",
       "      <td>Colin</td>\n",
       "      <td>M</td>\n",
       "      <td>50</td>\n",
       "      <td>Freeman</td>\n",
       "      <td>277.89016</td>\n",
       "      <td>paid</td>\n",
       "      <td>Bakersfield, CA</td>\n",
       "      <td>PUT</td>\n",
       "      <td>...</td>\n",
       "      <td>1538173362000</td>\n",
       "      <td>29</td>\n",
       "      <td>Rockpools</td>\n",
       "      <td>200</td>\n",
       "      <td>1538352117000</td>\n",
       "      <td>Mozilla/5.0 (Windows NT 6.1; WOW64; rv:31.0) G...</td>\n",
       "      <td>30</td>\n",
       "      <td>False</td>\n",
       "      <td>2018-10-01 00:01:57</td>\n",
       "      <td>2018-09-28 22:22:42</td>\n",
       "    </tr>\n",
       "    <tr>\n",
       "      <th>1</th>\n",
       "      <td>Five Iron Frenzy</td>\n",
       "      <td>Logged In</td>\n",
       "      <td>Micah</td>\n",
       "      <td>M</td>\n",
       "      <td>79</td>\n",
       "      <td>Long</td>\n",
       "      <td>236.09424</td>\n",
       "      <td>free</td>\n",
       "      <td>Boston-Cambridge-Newton, MA-NH</td>\n",
       "      <td>PUT</td>\n",
       "      <td>...</td>\n",
       "      <td>1538331630000</td>\n",
       "      <td>8</td>\n",
       "      <td>Canada</td>\n",
       "      <td>200</td>\n",
       "      <td>1538352180000</td>\n",
       "      <td>\"Mozilla/5.0 (Windows NT 6.1; WOW64) AppleWebK...</td>\n",
       "      <td>9</td>\n",
       "      <td>False</td>\n",
       "      <td>2018-10-01 00:03:00</td>\n",
       "      <td>2018-09-30 18:20:30</td>\n",
       "    </tr>\n",
       "    <tr>\n",
       "      <th>2</th>\n",
       "      <td>Adam Lambert</td>\n",
       "      <td>Logged In</td>\n",
       "      <td>Colin</td>\n",
       "      <td>M</td>\n",
       "      <td>51</td>\n",
       "      <td>Freeman</td>\n",
       "      <td>282.82730</td>\n",
       "      <td>paid</td>\n",
       "      <td>Bakersfield, CA</td>\n",
       "      <td>PUT</td>\n",
       "      <td>...</td>\n",
       "      <td>1538173362000</td>\n",
       "      <td>29</td>\n",
       "      <td>Time For Miracles</td>\n",
       "      <td>200</td>\n",
       "      <td>1538352394000</td>\n",
       "      <td>Mozilla/5.0 (Windows NT 6.1; WOW64; rv:31.0) G...</td>\n",
       "      <td>30</td>\n",
       "      <td>False</td>\n",
       "      <td>2018-10-01 00:06:34</td>\n",
       "      <td>2018-09-28 22:22:42</td>\n",
       "    </tr>\n",
       "    <tr>\n",
       "      <th>3</th>\n",
       "      <td>Enigma</td>\n",
       "      <td>Logged In</td>\n",
       "      <td>Micah</td>\n",
       "      <td>M</td>\n",
       "      <td>80</td>\n",
       "      <td>Long</td>\n",
       "      <td>262.71302</td>\n",
       "      <td>free</td>\n",
       "      <td>Boston-Cambridge-Newton, MA-NH</td>\n",
       "      <td>PUT</td>\n",
       "      <td>...</td>\n",
       "      <td>1538331630000</td>\n",
       "      <td>8</td>\n",
       "      <td>Knocking On Forbidden Doors</td>\n",
       "      <td>200</td>\n",
       "      <td>1538352416000</td>\n",
       "      <td>\"Mozilla/5.0 (Windows NT 6.1; WOW64) AppleWebK...</td>\n",
       "      <td>9</td>\n",
       "      <td>False</td>\n",
       "      <td>2018-10-01 00:06:56</td>\n",
       "      <td>2018-09-30 18:20:30</td>\n",
       "    </tr>\n",
       "    <tr>\n",
       "      <th>4</th>\n",
       "      <td>Daft Punk</td>\n",
       "      <td>Logged In</td>\n",
       "      <td>Colin</td>\n",
       "      <td>M</td>\n",
       "      <td>52</td>\n",
       "      <td>Freeman</td>\n",
       "      <td>223.60771</td>\n",
       "      <td>paid</td>\n",
       "      <td>Bakersfield, CA</td>\n",
       "      <td>PUT</td>\n",
       "      <td>...</td>\n",
       "      <td>1538173362000</td>\n",
       "      <td>29</td>\n",
       "      <td>Harder Better Faster Stronger</td>\n",
       "      <td>200</td>\n",
       "      <td>1538352676000</td>\n",
       "      <td>Mozilla/5.0 (Windows NT 6.1; WOW64; rv:31.0) G...</td>\n",
       "      <td>30</td>\n",
       "      <td>False</td>\n",
       "      <td>2018-10-01 00:11:16</td>\n",
       "      <td>2018-09-28 22:22:42</td>\n",
       "    </tr>\n",
       "  </tbody>\n",
       "</table>\n",
       "<p>5 rows × 21 columns</p>\n",
       "</div>"
      ],
      "text/plain": [
       "             artist       auth firstName gender  itemInSession lastName  \\\n",
       "0    Martha Tilston  Logged In     Colin      M             50  Freeman   \n",
       "1  Five Iron Frenzy  Logged In     Micah      M             79     Long   \n",
       "2      Adam Lambert  Logged In     Colin      M             51  Freeman   \n",
       "3            Enigma  Logged In     Micah      M             80     Long   \n",
       "4         Daft Punk  Logged In     Colin      M             52  Freeman   \n",
       "\n",
       "      length level                        location method  ...   registration  \\\n",
       "0  277.89016  paid                 Bakersfield, CA    PUT  ...  1538173362000   \n",
       "1  236.09424  free  Boston-Cambridge-Newton, MA-NH    PUT  ...  1538331630000   \n",
       "2  282.82730  paid                 Bakersfield, CA    PUT  ...  1538173362000   \n",
       "3  262.71302  free  Boston-Cambridge-Newton, MA-NH    PUT  ...  1538331630000   \n",
       "4  223.60771  paid                 Bakersfield, CA    PUT  ...  1538173362000   \n",
       "\n",
       "   sessionId                           song status             ts  \\\n",
       "0         29                      Rockpools    200  1538352117000   \n",
       "1          8                         Canada    200  1538352180000   \n",
       "2         29              Time For Miracles    200  1538352394000   \n",
       "3          8    Knocking On Forbidden Doors    200  1538352416000   \n",
       "4         29  Harder Better Faster Stronger    200  1538352676000   \n",
       "\n",
       "                                           userAgent userId  churn  \\\n",
       "0  Mozilla/5.0 (Windows NT 6.1; WOW64; rv:31.0) G...     30  False   \n",
       "1  \"Mozilla/5.0 (Windows NT 6.1; WOW64) AppleWebK...      9  False   \n",
       "2  Mozilla/5.0 (Windows NT 6.1; WOW64; rv:31.0) G...     30  False   \n",
       "3  \"Mozilla/5.0 (Windows NT 6.1; WOW64) AppleWebK...      9  False   \n",
       "4  Mozilla/5.0 (Windows NT 6.1; WOW64; rv:31.0) G...     30  False   \n",
       "\n",
       "            event_time             reg_time  \n",
       "0  2018-10-01 00:01:57  2018-09-28 22:22:42  \n",
       "1  2018-10-01 00:03:00  2018-09-30 18:20:30  \n",
       "2  2018-10-01 00:06:34  2018-09-28 22:22:42  \n",
       "3  2018-10-01 00:06:56  2018-09-30 18:20:30  \n",
       "4  2018-10-01 00:11:16  2018-09-28 22:22:42  \n",
       "\n",
       "[5 rows x 21 columns]"
      ]
     },
     "execution_count": 10,
     "metadata": {},
     "output_type": "execute_result"
    }
   ],
   "source": [
    "#time stamp analysis, convert ts and registrtaion time stamps\n",
    "#then add these two columns to dataframe\n",
    "#see https://stackoverflow.com/questions/51983037/convert-from-timestamp-to-specific-date-in-pyspark\n",
    "format_timestamp_udf= udf(lambda x: datetime.datetime.fromtimestamp(x*ticks_to_sec).strftime(\"%Y-%m-%d %H:%M:%S\"))\n",
    "#event time stamp\n",
    "df = df.withColumn('event_time', format_timestamp_udf('ts'))\n",
    "#user registration time stamp\n",
    "df = df.withColumn('reg_time', format_timestamp_udf('registration'))\n",
    "dfp=df.toPandas()\n",
    "dfp.head(5)"
   ]
  },
  {
   "cell_type": "code",
   "execution_count": 11,
   "metadata": {},
   "outputs": [
    {
     "name": "stdout",
     "output_type": "stream",
     "text": [
      "+------+-------------------+\n",
      "|userId|totSubscriptionDays|\n",
      "+------+-------------------+\n",
      "|100010|   55.6436574074074|\n",
      "|200002|  70.07462962962963|\n",
      "|   125|  71.31688657407408|\n",
      "+------+-------------------+\n",
      "only showing top 3 rows\n",
      "\n"
     ]
    },
    {
     "data": {
      "text/plain": [
       "225"
      ]
     },
     "execution_count": 11,
     "metadata": {},
     "output_type": "execute_result"
    }
   ],
   "source": [
    "#number days passed since the user registered\n",
    "#find difference between event time stamps and  time since registration\n",
    "tot_duration_df = df.select('userId','registration','ts').withColumn('totDuration',(df.ts-df.registration))\n",
    "#group and find the maximum value from the difference of a given user\n",
    "tot_duration_df =tot_duration_df.groupBy('userId').agg({'totDuration':'max'}) \n",
    "#change the column name and convert to number of days\n",
    "tot_duration_df=tot_duration_df.withColumnRenamed('max(totDuration)','totDuration') \\\n",
    ".select('userId', (col('totDuration')*ticks_to_days).alias('totSubscriptionDays'))\n",
    "tot_duration_df.show(3)\n",
    "tot_duration_df.count()"
   ]
  },
  {
   "cell_type": "code",
   "execution_count": 12,
   "metadata": {},
   "outputs": [
    {
     "name": "stdout",
     "output_type": "stream",
     "text": [
      "+------+------------------+\n",
      "|userId|avgSongsPerSession|\n",
      "+------+------------------+\n",
      "|100010|39.285714285714285|\n",
      "|200002|              64.5|\n",
      "|   125|               8.0|\n",
      "+------+------------------+\n",
      "only showing top 3 rows\n",
      "\n"
     ]
    },
    {
     "data": {
      "text/plain": [
       "225"
      ]
     },
     "execution_count": 12,
     "metadata": {},
     "output_type": "execute_result"
    }
   ],
   "source": [
    "#Average number of songs played per session per user\n",
    "avg_songs_per_session_df = df.where('page == \"NextSong\"').groupby('userId', 'sessionId').count()\\\n",
    "    .groupby('userId').agg({'count':'avg'})\\\n",
    "    .withColumnRenamed('avg(count)', 'avgSongsPerSession')\n",
    "  \n",
    "avg_songs_per_session_df.show(3)\n",
    "avg_songs_per_session_df.count()"
   ]
  },
  {
   "cell_type": "code",
   "execution_count": 13,
   "metadata": {},
   "outputs": [
    {
     "name": "stdout",
     "output_type": "stream",
     "text": [
      "+------+------------------+\n",
      "|userID|totRollAdvertCount|\n",
      "+------+------------------+\n",
      "|100010|                52|\n",
      "|200002|                 7|\n",
      "|   125|                 1|\n",
      "+------+------------------+\n",
      "only showing top 3 rows\n",
      "\n"
     ]
    },
    {
     "data": {
      "text/plain": [
       "207"
      ]
     },
     "execution_count": 13,
     "metadata": {},
     "output_type": "execute_result"
    }
   ],
   "source": [
    "# Roll advert\n",
    "tot_advert_df = df.select('userID','page').where(df.page == 'Roll Advert').groupBy('userID') \\\n",
    "    .count().withColumnRenamed('count', 'totRollAdvertCount') \n",
    "tot_advert_df.show(3)\n",
    "tot_advert_df.count()"
   ]
  },
  {
   "cell_type": "code",
   "execution_count": 14,
   "metadata": {},
   "outputs": [
    {
     "name": "stdout",
     "output_type": "stream",
     "text": [
      "+------+--------------+\n",
      "|userID|totFriendCount|\n",
      "+------+--------------+\n",
      "|100010|             4|\n",
      "|200002|             4|\n",
      "|    51|            28|\n",
      "+------+--------------+\n",
      "only showing top 3 rows\n",
      "\n"
     ]
    },
    {
     "data": {
      "text/plain": [
       "206"
      ]
     },
     "execution_count": 14,
     "metadata": {},
     "output_type": "execute_result"
    }
   ],
   "source": [
    "# friends added is a measure of user engagement\n",
    "tot_friends_df = df.select('userID','page').where(df.page == 'Add Friend').groupBy('userID') \\\n",
    "    .count().withColumnRenamed('count', 'totFriendCount') \n",
    "tot_friends_df.show(3)\n",
    "tot_friends_df.count()"
   ]
  },
  {
   "cell_type": "code",
   "execution_count": 15,
   "metadata": {},
   "outputs": [
    {
     "name": "stdout",
     "output_type": "stream",
     "text": [
      "+------+-----------+\n",
      "|userID|totThumpsUp|\n",
      "+------+-----------+\n",
      "|100010|         17|\n",
      "|200002|         21|\n",
      "|    51|        100|\n",
      "+------+-----------+\n",
      "only showing top 3 rows\n",
      "\n",
      "tot thumps up user counts 220\n",
      "+------+-------------+\n",
      "|userID|totThumpsDown|\n",
      "+------+-------------+\n",
      "|100010|            5|\n",
      "|200002|            6|\n",
      "|    51|           21|\n",
      "+------+-------------+\n",
      "only showing top 3 rows\n",
      "\n",
      "tot thumps down user counts 203\n"
     ]
    }
   ],
   "source": [
    "#total thumps up or thumps down is an indicator of user engagement\n",
    "#and hence a good feature to predict churn\n",
    "tot_thumps_Up_df= df.select('userID','page').select('userID','page').where(df.page == 'Thumbs Up').groupBy('userID') \\\n",
    "    .count().withColumnRenamed('count', 'totThumpsUp') \n",
    "tot_thumps_Up_df.show(3)\n",
    "print(\"tot thumps up user counts\", tot_thumps_Up_df.count())\n",
    "\n",
    "tot_thumps_Down_df= df.select('userID','page').select('userID','page').where(df.page == 'Thumbs Down').groupBy('userID') \\\n",
    "    .count().withColumnRenamed('count', 'totThumpsDown') \n",
    "tot_thumps_Down_df.show(3)\n",
    "tot_thumps_Down_df.count()\n",
    "print(\"tot thumps down user counts\", tot_thumps_Down_df.count())"
   ]
  },
  {
   "cell_type": "code",
   "execution_count": 16,
   "metadata": {},
   "outputs": [
    {
     "name": "stdout",
     "output_type": "stream",
     "text": [
      "+------+--------------+\n",
      "|userID|totalSongCount|\n",
      "+------+--------------+\n",
      "|100010|           381|\n",
      "|200002|           474|\n",
      "|   125|            11|\n",
      "+------+--------------+\n",
      "only showing top 3 rows\n",
      "\n"
     ]
    },
    {
     "data": {
      "text/plain": [
       "225"
      ]
     },
     "execution_count": 16,
     "metadata": {},
     "output_type": "execute_result"
    }
   ],
   "source": [
    "#total number of songs listened \n",
    "tot_songs_count_df= df.select('userID','song').groupBy('userID').count().withColumnRenamed('count', 'totalSongCount')\n",
    "tot_songs_count_df.show(3)\n",
    "tot_songs_count_df.count()"
   ]
  },
  {
   "cell_type": "code",
   "execution_count": 17,
   "metadata": {},
   "outputs": [
    {
     "name": "stdout",
     "output_type": "stream",
     "text": [
      "+------+-------------+\n",
      "|userID|totSongsAdded|\n",
      "+------+-------------+\n",
      "|100010|            7|\n",
      "|200002|            8|\n",
      "|   124|          118|\n",
      "+------+-------------+\n",
      "only showing top 3 rows\n",
      "\n"
     ]
    },
    {
     "data": {
      "text/plain": [
       "215"
      ]
     },
     "execution_count": 17,
     "metadata": {},
     "output_type": "execute_result"
    }
   ],
   "source": [
    "#total number of songs added to play list\n",
    "tot_songsAdded_count_df= df.select('userID','page').select('userID','page').where(df.page == 'Add to Playlist').groupBy('userID') \\\n",
    "    .count().withColumnRenamed('count', 'totSongsAdded')\n",
    "tot_songsAdded_count_df.show(3)\n",
    "#tot_songsAdded_count_df.fillna(0)\n",
    "tot_songsAdded_count_df.count()"
   ]
  },
  {
   "cell_type": "code",
   "execution_count": 18,
   "metadata": {},
   "outputs": [
    {
     "name": "stdout",
     "output_type": "stream",
     "text": [
      "+------+------+\n",
      "|userId|gender|\n",
      "+------+------+\n",
      "|    44|     0|\n",
      "|    46|     0|\n",
      "|    41|     0|\n",
      "|    72|     0|\n",
      "|300023|     0|\n",
      "|    39|     0|\n",
      "|100010|     0|\n",
      "|    40|     0|\n",
      "|    94|     0|\n",
      "|    35|     0|\n",
      "|    75|     0|\n",
      "|   116|     0|\n",
      "|200001|     1|\n",
      "|200020|     1|\n",
      "|100008|     0|\n",
      "+------+------+\n",
      "only showing top 15 rows\n",
      "\n"
     ]
    },
    {
     "data": {
      "text/plain": [
       "225"
      ]
     },
     "execution_count": 18,
     "metadata": {},
     "output_type": "execute_result"
    }
   ],
   "source": [
    "# convert gender flag  to numeric values for ML, M =1 and F =0\n",
    "gender_df = df.select(\"userId\", \"gender\").dropDuplicates().replace(['M', 'F'], ['1', '0'], 'gender') \\\n",
    "    .select('userId', col('gender').cast('int'))\n",
    "gender_df.show(15)\n",
    "gender_df.count()"
   ]
  },
  {
   "cell_type": "code",
   "execution_count": 19,
   "metadata": {},
   "outputs": [
    {
     "name": "stdout",
     "output_type": "stream",
     "text": [
      "+------+-----+\n",
      "|userId|churn|\n",
      "+------+-----+\n",
      "|    19|    0|\n",
      "|100005|    1|\n",
      "|200007|    0|\n",
      "|300007|    1|\n",
      "|    50|    0|\n",
      "|200002|    0|\n",
      "|    30|    0|\n",
      "|     8|    0|\n",
      "|100011|    1|\n",
      "|100012|    1|\n",
      "|     4|    0|\n",
      "|    65|    0|\n",
      "|    13|    0|\n",
      "|   101|    1|\n",
      "|   153|    0|\n",
      "|    42|    0|\n",
      "|100014|    1|\n",
      "|    94|    0|\n",
      "|    62|    0|\n",
      "|   114|    0|\n",
      "+------+-----+\n",
      "only showing top 20 rows\n",
      "\n"
     ]
    },
    {
     "data": {
      "text/plain": [
       "225"
      ]
     },
     "execution_count": 19,
     "metadata": {},
     "output_type": "execute_result"
    }
   ],
   "source": [
    "# convert churn labels to numeric values, churned =1 and stayed =0\n",
    "churn_numeric_df = df.select(\"userId\", \"churn\").dropDuplicates().replace(['True', 'False'], ['1', '0'], 'churn') \\\n",
    "    .select('userId', col('churn').cast('int'))\n",
    "churn_numeric_df.show(20)\n",
    "churn_numeric_df.count()"
   ]
  },
  {
   "cell_type": "markdown",
   "metadata": {},
   "source": [
    "Now let us put all the features together and make a data frame for ML"
   ]
  },
  {
   "cell_type": "code",
   "execution_count": 20,
   "metadata": {},
   "outputs": [
    {
     "name": "stdout",
     "output_type": "stream",
     "text": [
      "+------+-------------------+------------------+------------------+--------------+-----------+-------------+--------------+-------------+------+-----+\n",
      "|userId|totSubscriptionDays|avgSongsPerSession|totRollAdvertCount|totFriendCount|totThumpsUp|totThumpsDown|totalSongCount|totSongsAdded|gender|churn|\n",
      "+------+-------------------+------------------+------------------+--------------+-----------+-------------+--------------+-------------+------+-----+\n",
      "|    10|  51.76265046296296|112.16666666666667|                 1|            12|         37|            4|           795|            9|     1|    0|\n",
      "|   100|  64.87377314814815| 78.88235294117646|                25|            49|        148|           27|          3214|           61|     1|    0|\n",
      "|100001|  44.80021990740741|             33.25|                14|             2|          8|            2|           187|            3|     0|    1|\n",
      "+------+-------------------+------------------+------------------+--------------+-----------+-------------+--------------+-------------+------+-----+\n",
      "only showing top 3 rows\n",
      "\n"
     ]
    },
    {
     "data": {
      "text/html": [
       "<div>\n",
       "<style scoped>\n",
       "    .dataframe tbody tr th:only-of-type {\n",
       "        vertical-align: middle;\n",
       "    }\n",
       "\n",
       "    .dataframe tbody tr th {\n",
       "        vertical-align: top;\n",
       "    }\n",
       "\n",
       "    .dataframe thead th {\n",
       "        text-align: right;\n",
       "    }\n",
       "</style>\n",
       "<table border=\"1\" class=\"dataframe\">\n",
       "  <thead>\n",
       "    <tr style=\"text-align: right;\">\n",
       "      <th></th>\n",
       "      <th>userId</th>\n",
       "      <th>totSubscriptionDays</th>\n",
       "      <th>avgSongsPerSession</th>\n",
       "      <th>totRollAdvertCount</th>\n",
       "      <th>totFriendCount</th>\n",
       "      <th>totThumpsUp</th>\n",
       "      <th>totThumpsDown</th>\n",
       "      <th>totalSongCount</th>\n",
       "      <th>totSongsAdded</th>\n",
       "      <th>gender</th>\n",
       "      <th>churn</th>\n",
       "    </tr>\n",
       "  </thead>\n",
       "  <tbody>\n",
       "    <tr>\n",
       "      <th>0</th>\n",
       "      <td>10</td>\n",
       "      <td>51.762650</td>\n",
       "      <td>112.166667</td>\n",
       "      <td>1</td>\n",
       "      <td>12</td>\n",
       "      <td>37</td>\n",
       "      <td>4</td>\n",
       "      <td>795</td>\n",
       "      <td>9</td>\n",
       "      <td>1</td>\n",
       "      <td>0</td>\n",
       "    </tr>\n",
       "    <tr>\n",
       "      <th>1</th>\n",
       "      <td>100</td>\n",
       "      <td>64.873773</td>\n",
       "      <td>78.882353</td>\n",
       "      <td>25</td>\n",
       "      <td>49</td>\n",
       "      <td>148</td>\n",
       "      <td>27</td>\n",
       "      <td>3214</td>\n",
       "      <td>61</td>\n",
       "      <td>1</td>\n",
       "      <td>0</td>\n",
       "    </tr>\n",
       "    <tr>\n",
       "      <th>2</th>\n",
       "      <td>100001</td>\n",
       "      <td>44.800220</td>\n",
       "      <td>33.250000</td>\n",
       "      <td>14</td>\n",
       "      <td>2</td>\n",
       "      <td>8</td>\n",
       "      <td>2</td>\n",
       "      <td>187</td>\n",
       "      <td>3</td>\n",
       "      <td>0</td>\n",
       "      <td>1</td>\n",
       "    </tr>\n",
       "    <tr>\n",
       "      <th>3</th>\n",
       "      <td>100002</td>\n",
       "      <td>160.472072</td>\n",
       "      <td>48.750000</td>\n",
       "      <td>3</td>\n",
       "      <td>1</td>\n",
       "      <td>5</td>\n",
       "      <td>0</td>\n",
       "      <td>218</td>\n",
       "      <td>5</td>\n",
       "      <td>0</td>\n",
       "      <td>0</td>\n",
       "    </tr>\n",
       "    <tr>\n",
       "      <th>4</th>\n",
       "      <td>100003</td>\n",
       "      <td>22.748113</td>\n",
       "      <td>25.500000</td>\n",
       "      <td>9</td>\n",
       "      <td>0</td>\n",
       "      <td>3</td>\n",
       "      <td>0</td>\n",
       "      <td>78</td>\n",
       "      <td>2</td>\n",
       "      <td>0</td>\n",
       "      <td>1</td>\n",
       "    </tr>\n",
       "  </tbody>\n",
       "</table>\n",
       "</div>"
      ],
      "text/plain": [
       "   userId  totSubscriptionDays  avgSongsPerSession  totRollAdvertCount  \\\n",
       "0      10            51.762650          112.166667                   1   \n",
       "1     100            64.873773           78.882353                  25   \n",
       "2  100001            44.800220           33.250000                  14   \n",
       "3  100002           160.472072           48.750000                   3   \n",
       "4  100003            22.748113           25.500000                   9   \n",
       "\n",
       "   totFriendCount  totThumpsUp  totThumpsDown  totalSongCount  totSongsAdded  \\\n",
       "0              12           37              4             795              9   \n",
       "1              49          148             27            3214             61   \n",
       "2               2            8              2             187              3   \n",
       "3               1            5              0             218              5   \n",
       "4               0            3              0              78              2   \n",
       "\n",
       "   gender  churn  \n",
       "0       1      0  \n",
       "1       1      0  \n",
       "2       0      1  \n",
       "3       0      0  \n",
       "4       0      1  "
      ]
     },
     "execution_count": 20,
     "metadata": {},
     "output_type": "execute_result"
    }
   ],
   "source": [
    "df_final = df.dropDuplicates(['userId']).select(['userId'])\n",
    "\n",
    "for feature in [tot_duration_df,avg_songs_per_session_df, tot_advert_df, tot_friends_df, \\\n",
    "                tot_thumps_Up_df,tot_thumps_Down_df,tot_songs_count_df,tot_songsAdded_count_df, \\\n",
    "                gender_df,churn_numeric_df]:\n",
    "    df_final = df_final.join(feature,on='userId',how='left').fillna(0)\n",
    "    \n",
    "df_final = df_final.orderBy('userId', ascending=True) #SPARK\n",
    "df_final.show(3)\n",
    "                            \n",
    "dfp_final=df_final.toPandas() #PANDAS\n",
    "dfp_final.head(5)"
   ]
  },
  {
   "cell_type": "code",
   "execution_count": 21,
   "metadata": {},
   "outputs": [
    {
     "data": {
      "text/plain": [
       "userId                 225\n",
       "totSubscriptionDays    225\n",
       "avgSongsPerSession     225\n",
       "totRollAdvertCount     225\n",
       "totFriendCount         225\n",
       "totThumpsUp            225\n",
       "totThumpsDown          225\n",
       "totalSongCount         225\n",
       "totSongsAdded          225\n",
       "gender                 225\n",
       "churn                  225\n",
       "dtype: int64"
      ]
     },
     "execution_count": 21,
     "metadata": {},
     "output_type": "execute_result"
    }
   ],
   "source": [
    "dfp_final.count()"
   ]
  },
  {
   "cell_type": "code",
   "execution_count": 22,
   "metadata": {},
   "outputs": [
    {
     "data": {
      "text/plain": [
       "[('userId', 'string'),\n",
       " ('totSubscriptionDays', 'double'),\n",
       " ('avgSongsPerSession', 'double'),\n",
       " ('totRollAdvertCount', 'bigint'),\n",
       " ('totFriendCount', 'bigint'),\n",
       " ('totThumpsUp', 'bigint'),\n",
       " ('totThumpsDown', 'bigint'),\n",
       " ('totalSongCount', 'bigint'),\n",
       " ('totSongsAdded', 'bigint'),\n",
       " ('gender', 'int'),\n",
       " ('churn', 'int')]"
      ]
     },
     "execution_count": 22,
     "metadata": {},
     "output_type": "execute_result"
    }
   ],
   "source": [
    "df_final.dtypes"
   ]
  },
  {
   "cell_type": "code",
   "execution_count": 23,
   "metadata": {},
   "outputs": [
    {
     "name": "stdout",
     "output_type": "stream",
     "text": [
      "root\n",
      " |-- userId: integer (nullable = true)\n",
      " |-- totSubscriptionDays: double (nullable = false)\n",
      " |-- avgSongsPerSession: double (nullable = false)\n",
      " |-- totRollAdvertCount: long (nullable = true)\n",
      " |-- totFriendCount: long (nullable = true)\n",
      " |-- totThumpsUp: long (nullable = true)\n",
      " |-- totThumpsDown: long (nullable = true)\n",
      " |-- totalSongCount: long (nullable = true)\n",
      " |-- totSongsAdded: long (nullable = true)\n",
      " |-- gender: integer (nullable = true)\n",
      " |-- churn: integer (nullable = true)\n",
      "\n"
     ]
    }
   ],
   "source": [
    "# convert  (userId) to integer since it is shown as string\n",
    "df_final = df_final.withColumn('userId', df_final.userId.cast(IntegerType()))\n",
    "df_final.printSchema()"
   ]
  },
  {
   "cell_type": "code",
   "execution_count": 24,
   "metadata": {},
   "outputs": [
    {
     "name": "stdout",
     "output_type": "stream",
     "text": [
      "+-----+-----+\n",
      "|churn|count|\n",
      "+-----+-----+\n",
      "|    1|   52|\n",
      "|    0|  173|\n",
      "+-----+-----+\n",
      "\n"
     ]
    }
   ],
   "source": [
    "#check we have the correct number of churn values still\n",
    "df_final.groupby(\"churn\").count().show()"
   ]
  },
  {
   "cell_type": "markdown",
   "metadata": {},
   "source": [
    "# Modeling\n",
    "- Split the full dataset into train, test, and validation sets.\n",
    "- Test out several of the machine learning methods.\n",
    "- Evaluate the accuracy of the various models"
   ]
  },
  {
   "cell_type": "code",
   "execution_count": 25,
   "metadata": {},
   "outputs": [],
   "source": [
    "# split into train 60%, test 20% and validation 20%\n",
    "train, testAndValidation = df_final.randomSplit([0.6, 0.4], seed = 42)\n",
    "test, validation = testAndValidation.randomSplit([0.5, 0.5], seed = 42)\n",
    "#test.show(2)"
   ]
  },
  {
   "cell_type": "code",
   "execution_count": 26,
   "metadata": {},
   "outputs": [],
   "source": [
    "# create vector for features (no userID or churn needed)\n",
    "cols = ['totSubscriptionDays', 'avgSongsPerSession','totRollAdvertCount', 'totFriendCount','totThumpsUp', \\\n",
    "        'totThumpsDown','totalSongCount','totSongsAdded','gender']\n",
    "\n",
    "#vector assembler, combines a given list of columns into a single vector column\n",
    "assembler = VectorAssembler(inputCols=cols, outputCol='assembledFeatures')\n",
    "\n",
    "#standardize the features\n",
    "scaler = StandardScaler(inputCol=\"assembledFeatures\", outputCol=\"features\", withStd=True)\n",
    "\n",
    "#\n",
    "indexer = StringIndexer(inputCol=\"churn\", outputCol=\"label\")"
   ]
  },
  {
   "cell_type": "code",
   "execution_count": 27,
   "metadata": {},
   "outputs": [],
   "source": [
    "def evaluateModel(inputPipeline):\n",
    "    model_pipeline =inputPipeline\n",
    "    #Pipeline(stages=[assembler, scaler, indexer, classifier])\n",
    "    #parameters\n",
    "    param_grid = ParamGridBuilder().build()\n",
    "    #evaluator\n",
    "    F1_evaluator = MulticlassClassificationEvaluator(metricName='f1')\n",
    "    #crossvalidation\n",
    "    cv = CrossValidator(estimator=model_pipeline,estimatorParamMaps=param_grid, \\\n",
    "                           evaluator=F1_evaluator,numFolds=3,seed=42)\n",
    "    \n",
    "    start = time()\n",
    "    cvModel = cv.fit(train)\n",
    "    end = time()\n",
    "    #print('avg metrics:', cvModel.avgMetrics)\n",
    "    print('The training process took {} seconds'.format(end - start))\n",
    "    results = cvModel.transform(validation)\n",
    "    TP = results.filter(\"label = 1 and prediction = 1\").count()\n",
    "    TN = results.filter(\"label = 0 and prediction = 0\").count()\n",
    "    FP = results.filter(\"label = 0 and prediction = 1\").count()\n",
    "    FN = results.filter(\"label = 1 and prediction = 0\").count()\n",
    "    \n",
    "    accuracy= (TP+TN)/(TP+FP+FN+TN)\n",
    "    precision = TP / (TP + FP) \n",
    "    recall = TP / (TP + FN)\n",
    "    f1 = 2*precision*recall / (precision+recall)\n",
    "    \n",
    "    print('Model Metrics:--------')\n",
    "    print(\"Accuracy  :\",round(accuracy,4))\n",
    "    print(\"Precision :\",round(precision,4))\n",
    "    print(\"Recall    :\",round(recall,4))\n",
    "    print(\"F-1 score :\",round(f1,4))\n",
    "    \n",
    "    #pysparks metric evaluation\n",
    "    evaluator = MulticlassClassificationEvaluator(predictionCol=\"prediction\")\n",
    "    print('Model Metrics from pyspark:-----')\n",
    "    print('Accuracy: {}'.format(evaluator.evaluate(results, {evaluator.metricName: \"accuracy\"})))\n",
    "    print('F-1 Score:{}'.format(evaluator.evaluate(results, {evaluator.metricName: \"f1\"})))"
   ]
  },
  {
   "cell_type": "code",
   "execution_count": 28,
   "metadata": {},
   "outputs": [
    {
     "name": "stdout",
     "output_type": "stream",
     "text": [
      "The training process took 239.10936546325684 seconds\n",
      "Model Metrics:--------\n",
      "Accuracy  : 0.8354\n",
      "Precision : 0.6154\n",
      "Recall    : 0.5\n",
      "F-1 score : 0.5517\n",
      "Model Metrics from pyspark:-----\n",
      "Accuracy: 0.8354430379746836\n",
      "F-1 Score:0.8288449240201801\n"
     ]
    }
   ],
   "source": [
    "# Random Forest model\n",
    "classifier=RandomForestClassifier(seed=42)\n",
    "rf_pipeline = Pipeline(stages=[assembler, scaler, indexer, classifier])\n",
    "evaluateModel(rf_pipeline)"
   ]
  },
  {
   "cell_type": "code",
   "execution_count": 29,
   "metadata": {},
   "outputs": [
    {
     "name": "stdout",
     "output_type": "stream",
     "text": [
      "The training process took 204.19770979881287 seconds\n",
      "Model Metrics:--------\n",
      "Accuracy  : 0.8608\n",
      "Precision : 0.7778\n",
      "Recall    : 0.4375\n",
      "F-1 score : 0.56\n",
      "Model Metrics from pyspark:-----\n",
      "Accuracy: 0.8607594936708861\n",
      "F-1 Score:0.8449300466355762\n"
     ]
    }
   ],
   "source": [
    "# Logistic regression model \n",
    "classifier=LogisticRegression(maxIter=10)\n",
    "lr_pipeline = Pipeline(stages=[assembler, scaler, indexer, classifier])\n",
    "evaluateModel(lr_pipeline)"
   ]
  },
  {
   "cell_type": "code",
   "execution_count": 30,
   "metadata": {},
   "outputs": [
    {
     "name": "stdout",
     "output_type": "stream",
     "text": [
      "The training process took 543.3622953891754 seconds\n",
      "Model Metrics:--------\n",
      "Accuracy  : 0.7215\n",
      "Precision : 0.375\n",
      "Recall    : 0.5625\n",
      "F-1 score : 0.45\n",
      "Model Metrics from pyspark:-----\n",
      "Accuracy: 0.7215189873417721\n",
      "F-1 Score:0.7399270542801974\n"
     ]
    }
   ],
   "source": [
    "#Gradient-Boosted Trees\n",
    "classifier=GBTClassifier(maxIter=10,seed=42)\n",
    "gbt_pipeline = Pipeline(stages=[assembler, scaler, indexer, classifier])\n",
    "evaluateModel(gbt_pipeline)"
   ]
  },
  {
   "cell_type": "markdown",
   "metadata": {},
   "source": [
    "## Hyperparameter tuning"
   ]
  },
  {
   "cell_type": "code",
   "execution_count": 31,
   "metadata": {},
   "outputs": [],
   "source": [
    "#Hyperparameter tuning, RF\n",
    "classifier=RandomForestClassifier(seed=42)\n",
    "model_pipeline = Pipeline(stages=[assembler, scaler, indexer, classifier])\n",
    "\n",
    "#parameters\n",
    "param_grid = ParamGridBuilder() \\\n",
    "    .addGrid(classifier.maxDepth,[5,6]) \\\n",
    "    .addGrid(classifier.impurity,['entropy','gini']) \\\n",
    "    .addGrid(classifier.minInstancesPerNode,[1] ) \\\n",
    "    .addGrid(classifier.numTrees,[25,30]) \\\n",
    "    .build()\n",
    "\n",
    "#evaluator\n",
    "F1_evaluator = MulticlassClassificationEvaluator(metricName='f1')\n",
    "#crossvalidation\n",
    "cv = CrossValidator(estimator=model_pipeline,estimatorParamMaps=param_grid, \\\n",
    "                           evaluator=F1_evaluator,numFolds=3,seed=42)\n",
    "    "
   ]
  },
  {
   "cell_type": "code",
   "execution_count": 32,
   "metadata": {},
   "outputs": [
    {
     "name": "stdout",
     "output_type": "stream",
     "text": [
      "The training process took 806.46484375 seconds\n"
     ]
    }
   ],
   "source": [
    "start = time()\n",
    "cvModel = cv.fit(train)\n",
    "end = time()\n",
    "print('The training process took {} seconds'.format(end - start))\n"
   ]
  },
  {
   "cell_type": "code",
   "execution_count": 33,
   "metadata": {},
   "outputs": [
    {
     "data": {
      "text/html": [
       "<div>\n",
       "<style scoped>\n",
       "    .dataframe tbody tr th:only-of-type {\n",
       "        vertical-align: middle;\n",
       "    }\n",
       "\n",
       "    .dataframe tbody tr th {\n",
       "        vertical-align: top;\n",
       "    }\n",
       "\n",
       "    .dataframe thead th {\n",
       "        text-align: right;\n",
       "    }\n",
       "</style>\n",
       "<table border=\"1\" class=\"dataframe\">\n",
       "  <thead>\n",
       "    <tr style=\"text-align: right;\">\n",
       "      <th></th>\n",
       "      <th>f1</th>\n",
       "      <th>impurity</th>\n",
       "      <th>maxDepth</th>\n",
       "      <th>minInstancesPerNode</th>\n",
       "      <th>numTrees</th>\n",
       "    </tr>\n",
       "  </thead>\n",
       "  <tbody>\n",
       "    <tr>\n",
       "      <th>0</th>\n",
       "      <td>0.862450</td>\n",
       "      <td>entropy</td>\n",
       "      <td>5</td>\n",
       "      <td>1</td>\n",
       "      <td>25</td>\n",
       "    </tr>\n",
       "    <tr>\n",
       "      <th>1</th>\n",
       "      <td>0.823389</td>\n",
       "      <td>entropy</td>\n",
       "      <td>5</td>\n",
       "      <td>1</td>\n",
       "      <td>30</td>\n",
       "    </tr>\n",
       "    <tr>\n",
       "      <th>2</th>\n",
       "      <td>0.842525</td>\n",
       "      <td>gini</td>\n",
       "      <td>5</td>\n",
       "      <td>1</td>\n",
       "      <td>25</td>\n",
       "    </tr>\n",
       "    <tr>\n",
       "      <th>3</th>\n",
       "      <td>0.845612</td>\n",
       "      <td>gini</td>\n",
       "      <td>5</td>\n",
       "      <td>1</td>\n",
       "      <td>30</td>\n",
       "    </tr>\n",
       "    <tr>\n",
       "      <th>4</th>\n",
       "      <td>0.862450</td>\n",
       "      <td>entropy</td>\n",
       "      <td>6</td>\n",
       "      <td>1</td>\n",
       "      <td>25</td>\n",
       "    </tr>\n",
       "    <tr>\n",
       "      <th>5</th>\n",
       "      <td>0.823389</td>\n",
       "      <td>entropy</td>\n",
       "      <td>6</td>\n",
       "      <td>1</td>\n",
       "      <td>30</td>\n",
       "    </tr>\n",
       "    <tr>\n",
       "      <th>6</th>\n",
       "      <td>0.840376</td>\n",
       "      <td>gini</td>\n",
       "      <td>6</td>\n",
       "      <td>1</td>\n",
       "      <td>25</td>\n",
       "    </tr>\n",
       "    <tr>\n",
       "      <th>7</th>\n",
       "      <td>0.845612</td>\n",
       "      <td>gini</td>\n",
       "      <td>6</td>\n",
       "      <td>1</td>\n",
       "      <td>30</td>\n",
       "    </tr>\n",
       "  </tbody>\n",
       "</table>\n",
       "</div>"
      ],
      "text/plain": [
       "         f1 impurity  maxDepth  minInstancesPerNode  numTrees\n",
       "0  0.862450  entropy         5                    1        25\n",
       "1  0.823389  entropy         5                    1        30\n",
       "2  0.842525     gini         5                    1        25\n",
       "3  0.845612     gini         5                    1        30\n",
       "4  0.862450  entropy         6                    1        25\n",
       "5  0.823389  entropy         6                    1        30\n",
       "6  0.840376     gini         6                    1        25\n",
       "7  0.845612     gini         6                    1        30"
      ]
     },
     "execution_count": 33,
     "metadata": {},
     "output_type": "execute_result"
    }
   ],
   "source": [
    "#get the detailed results of cross validation\n",
    "#see https://stackoverflow.com/questions/51230726/extract-results-from-crossvalidator-with-paramgrid-in-pyspark\n",
    "\n",
    "params = [{p.name: v for p, v in m.items()} for m in cvModel.getEstimatorParamMaps()]\n",
    "\n",
    "# convert pandas dataframe and print out\n",
    "cv_metricAndParams = pd.DataFrame.from_dict([\n",
    "    {cvModel.getEvaluator().getMetricName(): metric, **ps} \n",
    "    for ps, metric in zip(params, cvModel.avgMetrics)\n",
    "])\n",
    "cv_metricAndParams "
   ]
  },
  {
   "cell_type": "code",
   "execution_count": 34,
   "metadata": {},
   "outputs": [
    {
     "name": "stdout",
     "output_type": "stream",
     "text": [
      "\n",
      "Model Metrics:--------\n",
      "Accuracy  : 0.8608\n",
      "Precision : 0.7273\n",
      "Recall    : 0.5\n",
      "F-1 score : 0.5926\n",
      "Model Metrics from pyspark:-----\n",
      "Accuracy: 0.8607594936708861\n",
      "F-1 Score:0.8505241157671344\n"
     ]
    }
   ],
   "source": [
    "bestModel = cvModel.bestModel\n",
    "#print('avg metrics:', cvModel.avgMetrics)\n",
    "results = bestModel.transform(validation)\n",
    "TP = results.filter(\"label = 1 and prediction = 1\").count()\n",
    "TN = results.filter(\"label = 0 and prediction = 0\").count()\n",
    "FP = results.filter(\"label = 0 and prediction = 1\").count()\n",
    "FN = results.filter(\"label = 1 and prediction = 0\").count()\n",
    "    \n",
    "accuracy= (TP+TN)/(TP+FP+FN+TN)\n",
    "precision = TP / (TP + FP) \n",
    "recall = TP / (TP + FN)\n",
    "f1 = 2*precision*recall / (precision+recall)\n",
    "\n",
    "\n",
    "print('')\n",
    "print('Model Metrics:--------')\n",
    "print(\"Accuracy  :\",round(accuracy,4))\n",
    "print(\"Precision :\",round(precision,4))\n",
    "print(\"Recall    :\",round(recall,4))\n",
    "print(\"F-1 score :\",round(f1,4))\n",
    "\n",
    "#pysparks metric evaluation\n",
    "evaluator = MulticlassClassificationEvaluator(predictionCol=\"prediction\")\n",
    "print('Model Metrics from pyspark:-----')\n",
    "print('Accuracy: {}'.format(evaluator.evaluate(results, {evaluator.metricName: \"accuracy\"})))\n",
    "print('F-1 Score:{}'.format(evaluator.evaluate(results, {evaluator.metricName: \"f1\"})))"
   ]
  },
  {
   "cell_type": "code",
   "execution_count": 35,
   "metadata": {},
   "outputs": [
    {
     "name": "stdout",
     "output_type": "stream",
     "text": [
      "Best Param (MaxDepth):  5\n",
      "Best Param (impurity):  entropy\n",
      "Best Param (No trees):  25\n",
      "Best Param (No Instances):  1\n"
     ]
    }
   ],
   "source": [
    "#extract parameters from  the best model\n",
    "print ('Best Param (MaxDepth): ', bestModel.stages[-1]._java_obj.getMaxDepth())\n",
    "print ('Best Param (impurity): ', bestModel.stages[-1]._java_obj.getImpurity())\n",
    "print ('Best Param (No trees): ', bestModel.stages[-1]._java_obj.getNumTrees())\n",
    "print ('Best Param (No Instances): ', bestModel.stages[-1]._java_obj.getMinInstancesPerNode())\n",
    "#print ('Best Param (No Instances): ', bestModel.stages[-1]._java_obj.getFeatureSubsetStrategy())\n"
   ]
  },
  {
   "cell_type": "markdown",
   "metadata": {},
   "source": [
    "## Extract important features"
   ]
  },
  {
   "cell_type": "code",
   "execution_count": 39,
   "metadata": {},
   "outputs": [
    {
     "data": {
      "image/png": "[encoded data removed]",
      "text/plain": [
       "<Figure size 576x432 with 1 Axes>"
      ]
     },
     "metadata": {
      "needs_background": "light"
     },
     "output_type": "display_data"
    }
   ],
   "source": [
    "importantFeatures = bestModel.stages[-1].featureImportances.values\n",
    "cols = ['totSubscriptionDays', 'avgSongsPerSession','totRollAdvertCount', 'totFriendCount','totThumpsUp', \\\n",
    "        'totThumpsDown','totalSongCount','totSongsAdded','gender']\n",
    "\n",
    "y_pos = np.arange(len(cols))\n",
    "plt.figure(figsize=(8,6))\n",
    "plt.barh(y_pos,importantFeatures)\n",
    "plt.yticks(y_pos, cols)\n",
    "plt.grid()\n",
    "plt.xlabel('Score')\n",
    "plt.title('Feature Importances')\n",
    "plt.savefig('featImportance_mini.png')"
   ]
  }
 ],
 "metadata": {
  "kernelspec": {
   "display_name": "Python 3.6 with Spark",
   "language": "python3",
   "name": "python36"
  },
  "language_info": {
   "codemirror_mode": {
    "name": "ipython",
    "version": 3
   },
   "file_extension": ".py",
   "mimetype": "text/x-python",
   "name": "python",
   "nbconvert_exporter": "python",
   "pygments_lexer": "ipython3",
   "version": "3.6.8"
  },
  "latex_envs": {
   "LaTeX_envs_menu_present": true,
   "autoclose": false,
   "autocomplete": true,
   "bibliofile": "biblio.bib",
   "cite_by": "apalike",
   "current_citInitial": 1,
   "eqLabelWithNumbers": true,
   "eqNumInitial": 1,
   "hotkeys": {
    "equation": "Ctrl-E",
    "itemize": "Ctrl-I"
   },
   "labels_anchors": false,
   "latex_user_defs": false,
   "report_style_numbering": false,
   "user_envs_cfg": false
  },
  "toc": {
   "base_numbering": 1,
   "nav_menu": {},
   "number_sections": true,
   "sideBar": true,
   "skip_h1_title": false,
   "title_cell": "Table of Contents",
   "title_sidebar": "Contents",
   "toc_cell": false,
   "toc_position": {},
   "toc_section_display": true,
   "toc_window_display": true
  }
 },
 "nbformat": 4,
 "nbformat_minor": 1
}
