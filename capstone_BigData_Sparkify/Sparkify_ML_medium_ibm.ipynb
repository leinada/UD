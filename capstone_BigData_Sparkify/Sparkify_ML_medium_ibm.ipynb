{
 "cells": [
  {
   "cell_type": "markdown",
   "metadata": {},
   "source": [
    "# Sparkify: ML  model implementation  \n"
   ]
  },
  {
   "cell_type": "markdown",
   "metadata": {},
   "source": [
    "In this notebook we do the  data analysis with the medium data set on IBM watson studio"
   ]
  },
  {
   "cell_type": "code",
   "execution_count": 1,
   "metadata": {},
   "outputs": [
    {
     "name": "stdout",
     "output_type": "stream",
     "text": [
      "Waiting for a Spark session to start...\n",
      "Spark Initialization Done! ApplicationId = app-20190613205636-0000\n",
      "KERNEL_ID = 2ddf40a4-42f9-4b8a-b71d-38f52f75f63e\n"
     ]
    }
   ],
   "source": [
    "import ibmos2spark\n",
    "# @hidden_cell\n",
    "credentials = {\n",
    "    'endpoint': 'https://s3-api.us-geo.object.networklayer.com',\n",
    "    'service_id': 'iam-ServiceId-ae8e0d1e-8efa-XXXXX',\n",
    "    'iam_service_endpoint': 'https://iam.bluemix.net/oidc/token',\n",
    "    'api_key': 'fH1YFBK2C84k1Hw0RU1oEXXXXX'\n",
    "}\n",
    "\n",
    "configuration_name = 'os_483417c1de3948ecb5d662XXXXXX'\n",
    "cos = ibmos2spark.CloudObjectStorage(sc, credentials, configuration_name, 'bluemix_cos')\n",
    "\n",
    "from pyspark.sql import SparkSession\n",
    "spark = SparkSession.builder.getOrCreate()\n",
    "# Since JSON data can be semi-structured and contain additional metadata, it is possible that you might face issues with the DataFrame layout.\n",
    "# Please read the documentation of 'SparkSession.read()' to learn more about the possibilities to adjust the data loading.\n",
    "# PySpark documentation: http://spark.apache.org/docs/2.0.2/api/python/pyspark.sql.html#pyspark.sql.DataFrameReader.json\n",
    "\n",
    "# df_data_1 = spark.read.json(cos.url('medium-sparkify-event-data.json', 'sparkify-donotdelete-pr-oamce1b1oti8al'))\n",
    "# df_data_1.take(5)\n"
   ]
  },
  {
   "cell_type": "code",
   "execution_count": 2,
   "metadata": {},
   "outputs": [],
   "source": [
    "# import libraries\n",
    "from pyspark.sql import SparkSession\n",
    "\n",
    "from pyspark.sql.functions import udf, desc, asc, avg, col, concat, desc, explode, lit, min, max, split,count\n",
    "from pyspark.sql.types import StringType\n",
    "from pyspark.sql.types import IntegerType\n",
    "from pyspark.sql.functions import sum as Fsum\n",
    "\n",
    "import datetime\n",
    "from time import time\n",
    "\n",
    "from pyspark.sql import Window\n",
    "import pandas as pd\n",
    "import numpy as np\n",
    "from matplotlib import pyplot as plt\n",
    "import seaborn as sns\n",
    "%matplotlib inline\n",
    "\n",
    "import re\n",
    "\n",
    "from functools import reduce\n"
   ]
  },
  {
   "cell_type": "code",
   "execution_count": 3,
   "metadata": {},
   "outputs": [],
   "source": [
    "# ML imports\n",
    "from pyspark.ml.feature import Normalizer, StandardScaler, VectorAssembler,StringIndexer\n",
    "from pyspark.ml.classification import LogisticRegression, GBTClassifier, RandomForestClassifier,LinearSVC \n",
    "from pyspark.ml.regression import LinearRegression\n",
    "from pyspark.ml.evaluation import MulticlassClassificationEvaluator\n",
    "from pyspark.ml.tuning import CrossValidator, ParamGridBuilder\n",
    "from pyspark.ml import Pipeline"
   ]
  },
  {
   "cell_type": "code",
   "execution_count": 4,
   "metadata": {},
   "outputs": [],
   "source": [
    "# create a Spark session\n",
    "spark = SparkSession.builder.appName(\"Sparkify\").getOrCreate()"
   ]
  },
  {
   "cell_type": "code",
   "execution_count": 5,
   "metadata": {},
   "outputs": [
    {
     "data": {
      "text/plain": [
       "DataFrame[artist: string, auth: string, firstName: string, gender: string, itemInSession: bigint, lastName: string, length: double, level: string, location: string, method: string, page: string, registration: bigint, sessionId: bigint, song: string, status: bigint, ts: bigint, userAgent: string, userId: string]"
      ]
     },
     "execution_count": 5,
     "metadata": {},
     "output_type": "execute_result"
    }
   ],
   "source": [
    "#df_data_1 = spark.read.json(cos.url('medium-sparkify-event-data.json', 'sparkifyad-donotdelete-pr-cwsihlkyf80bpw'))\n",
    "#df_data_1.take(5)\n",
    "\n",
    "df = spark.read.json(cos.url('medium-sparkify-event-data.json', 'sparkify-donotdelete-pr-oamce1b1oti8al'))\n",
    "df.persist()\n"
   ]
  },
  {
   "cell_type": "code",
   "execution_count": 6,
   "metadata": {},
   "outputs": [],
   "source": [
    "#the timestamp in the data is ticks (ms)\n",
    "#timestamp func needs second as its input\n",
    "ticks_to_sec=1./1000. #convert from ms to seconds\n",
    "ticks_to_hours = ticks_to_sec/( 60.0 * 60.0)\n",
    "ticks_to_days = ticks_to_hours/24."
   ]
  },
  {
   "cell_type": "code",
   "execution_count": 7,
   "metadata": {},
   "outputs": [],
   "source": [
    "def cleanDF(df):\n",
    "    '''\n",
    "    Clean data frame to avoid empty values.\n",
    "    \n",
    "    INPUT: dataframe\n",
    "    \n",
    "    OUTPUT: cleaned dataframe\n",
    "    '''\n",
    "    df_cleaned = df.filter(df[\"userId\"] != \"\")\n",
    "    \n",
    "    return df_cleaned"
   ]
  },
  {
   "cell_type": "code",
   "execution_count": 8,
   "metadata": {},
   "outputs": [],
   "source": [
    "df = cleanDF(df)\n",
    "\n",
    "#make DF with churned users\n",
    "churnedUsers = df.filter(df.page==\"Cancellation Confirmation\").select(\"userId\").dropDuplicates()\n",
    "churnedUsersList=[]\n",
    "for row in churnedUsers.collect():\n",
    "    churnedUsersList.append((row['userId']))  \n",
    "df= df.withColumn(\"churn\", df.userId.isin(churnedUsersList))\n",
    "\n",
    "###engineer features ############\n",
    "\n",
    "#number days passed since the user registered\n",
    "tot_duration_df = df.select('userId','registration','ts').withColumn('totDuration',(df.ts-df.registration))\n",
    "tot_duration_df =tot_duration_df.groupBy('userId').agg({'totDuration':'max'}) \n",
    "tot_duration_df=tot_duration_df.withColumnRenamed('max(totDuration)','totDuration') \\\n",
    ".select('userId', (col('totDuration')*ticks_to_days).alias('totSubscriptionDays'))\n",
    "\n",
    "#Average number of songs played per session per user\n",
    "avg_songs_per_session_df = df.where('page == \"NextSong\"').groupby('userId', 'sessionId').count()\\\n",
    "    .groupby('userId').agg({'count':'avg'})\\\n",
    "    .withColumnRenamed('avg(count)', 'avgSongsPerSession')\n",
    "\n",
    "# Roll advert\n",
    "tot_advert_df = df.select('userID','page').where(df.page == 'Roll Advert').groupBy('userID') \\\n",
    "    .count().withColumnRenamed('count', 'totRollAdvertCount') \n",
    "\n",
    "# friends added is a measure of user engagement\n",
    "tot_friends_df = df.select('userID','page').where(df.page == 'Add Friend').groupBy('userID') \\\n",
    "    .count().withColumnRenamed('count', 'totFriendCount')\n",
    "\n",
    "#total thumps up or thumps down is an indicator of user engagement\n",
    "#and hence a good feature to predict churn\n",
    "tot_thumps_Up_df= df.select('userID','page').select('userID','page').where(df.page == 'Thumbs Up').groupBy('userID') \\\n",
    "    .count().withColumnRenamed('count', 'totThumpsUp') \n",
    "\n",
    "tot_thumps_Down_df= df.select('userID','page').select('userID','page').where(df.page == 'Thumbs Down').groupBy('userID') \\\n",
    "    .count().withColumnRenamed('count', 'totThumpsDown') \n",
    "#total number of songs listened \n",
    "tot_songs_count_df= df.select('userID','song').groupBy('userID').count().withColumnRenamed('count', 'totalSongCount')\n",
    "#total number of songs added to play list\n",
    "tot_songsAdded_count_df= df.select('userID','page').select('userID','page').where(df.page == 'Add to Playlist').groupBy('userID') \\\n",
    "    .count().withColumnRenamed('count', 'totSongsAdded')\n",
    "# convert gender flag  to numeric values for ML, M =1 and F =0\n",
    "gender_df = df.select(\"userId\", \"gender\").dropDuplicates().replace(['M', 'F'], ['1', '0'], 'gender') \\\n",
    "    .select('userId', col('gender').cast('int'))\n",
    "\n",
    "# convert churn labels to numeric values, churned =1 and stayed =0\n",
    "churn_numeric_df = df.select(\"userId\", \"churn\").dropDuplicates().replace(['True', 'False'], ['1', '0'], 'churn') \\\n",
    "    .select('userId', col('churn').cast('int'))\n",
    "\n",
    "\n",
    "###PUT all features together\n",
    "\n",
    "df_final = df.dropDuplicates(['userId']).select(['userId'])\n",
    "\n",
    "for feature in [tot_duration_df,avg_songs_per_session_df,tot_advert_df,tot_friends_df, \\\n",
    "                tot_thumps_Up_df,tot_thumps_Down_df,tot_songs_count_df,tot_songsAdded_count_df, \\\n",
    "                gender_df,churn_numeric_df]:\n",
    "    df_final = df_final.join(feature,on='userId',how='left').fillna(0)\n",
    "\n",
    "\n",
    "# convert  (userId) to integer for ML, since it as string\n",
    "df_final = df_final.withColumn('userId', df_final.userId.cast(IntegerType()))\n"
   ]
  },
  {
   "cell_type": "markdown",
   "metadata": {},
   "source": [
    "## Modeling"
   ]
  },
  {
   "cell_type": "code",
   "execution_count": 9,
   "metadata": {},
   "outputs": [],
   "source": [
    "###MODELING\n",
    "\n",
    "# split into train 60%, test 20% and validation 20%\n",
    "train, testAndValidation = df_final.randomSplit([0.6, 0.4], seed = 42)\n",
    "test, validation = testAndValidation.randomSplit([0.5, 0.5], seed = 42)\n",
    "\n",
    "\n",
    "# create vector for features (no userID or churn needed)\n",
    "cols = ['totSubscriptionDays', 'avgSongsPerSession','totRollAdvertCount','totFriendCount','totThumpsUp', \\\n",
    "        'totThumpsDown','totalSongCount','totSongsAdded','gender']\n",
    "\n",
    "#vector assembler, combines a given list of columns into a single vector column\n",
    "assembler = VectorAssembler(inputCols=cols, outputCol='assembledFeatures')\n",
    "\n",
    "#standardize the features\n",
    "scaler = StandardScaler(inputCol=\"assembledFeatures\", outputCol=\"features\", withStd=True)\n",
    "\n",
    "#\n",
    "indexer = StringIndexer(inputCol=\"churn\", outputCol=\"label\")"
   ]
  },
  {
   "cell_type": "code",
   "execution_count": 10,
   "metadata": {},
   "outputs": [],
   "source": [
    "##input the tuned model we developed\n",
    "\n",
    "classifier=RandomForestClassifier(seed=42)\n",
    "model_pipeline = Pipeline(stages=[assembler, scaler, indexer, classifier])\n",
    "\n",
    "#parameters\n",
    "param_grid = ParamGridBuilder() \\\n",
    "    .addGrid(classifier.maxDepth,[5]) \\\n",
    "    .addGrid(classifier.impurity,['entropy']) \\\n",
    "    .addGrid(classifier.minInstancesPerNode,[1] ) \\\n",
    "    .addGrid(classifier.numTrees,[25]) \\\n",
    "    .build()\n",
    "\n",
    "#evaluator\n",
    "F1_evaluator = MulticlassClassificationEvaluator(metricName='f1')\n",
    "#crossvalidation\n",
    "cv = CrossValidator(estimator=model_pipeline,estimatorParamMaps=param_grid, \\\n",
    "                           evaluator=F1_evaluator,numFolds=3,seed=42)\n",
    "    "
   ]
  },
  {
   "cell_type": "code",
   "execution_count": 11,
   "metadata": {},
   "outputs": [
    {
     "name": "stdout",
     "output_type": "stream",
     "text": [
      "The training process took 329.7513859272003 seconds\n"
     ]
    }
   ],
   "source": [
    "start = time()\n",
    "cvModel = cv.fit(train)\n",
    "end = time()\n",
    "print('The training process took {} seconds'.format(end - start))\n"
   ]
  },
  {
   "cell_type": "markdown",
   "metadata": {},
   "source": [
    "## Evaluate model metrics"
   ]
  },
  {
   "cell_type": "code",
   "execution_count": 12,
   "metadata": {},
   "outputs": [
    {
     "name": "stdout",
     "output_type": "stream",
     "text": [
      "avg metrics: [0.7033958131793696]\n",
      "\n",
      "Model Metrics:--------\n",
      "Accuracy  : 0.825\n",
      "Precision : 0.625\n",
      "Recall    : 0.2174\n",
      "F-1 score : 0.3226\n",
      "Model Metrics from pyspark:-----\n",
      "Accuracy: 0.825\n",
      "F-1 Score:0.7889411946288007\n"
     ]
    }
   ],
   "source": [
    "bestModel = cvModel.bestModel\n",
    "print('avg metrics:', cvModel.avgMetrics)\n",
    "results = bestModel.transform(validation)\n",
    "TP = results.filter(\"label = 1 and prediction = 1\").count()\n",
    "TN = results.filter(\"label = 0 and prediction = 0\").count()\n",
    "FP = results.filter(\"label = 0 and prediction = 1\").count()\n",
    "FN = results.filter(\"label = 1 and prediction = 0\").count()\n",
    "    \n",
    "accuracy= (TP+TN)/(TP+FP+FN+TN)\n",
    "precision = TP / (TP + FP) \n",
    "recall = TP / (TP + FN)\n",
    "f1 = 2*precision*recall / (precision+recall)\n",
    "\n",
    "print('')   \n",
    "print('Model Metrics:--------')\n",
    "print(\"Accuracy  :\",round(accuracy,4))\n",
    "print(\"Precision :\",round(precision,4))\n",
    "print(\"Recall    :\",round(recall,4))\n",
    "print(\"F-1 score :\",round(f1,4))\n",
    "\n",
    "#pyspark's metric evaluation\n",
    "evaluator = MulticlassClassificationEvaluator(predictionCol=\"prediction\")\n",
    "print('Model Metrics from pyspark:-----')\n",
    "print('Accuracy: {}'.format(evaluator.evaluate(results, {evaluator.metricName: \"accuracy\"})))\n",
    "print('F-1 Score:{}'.format(evaluator.evaluate(results, {evaluator.metricName: \"f1\"})))"
   ]
  },
  {
   "cell_type": "markdown",
   "metadata": {},
   "source": [
    "## Extract important features"
   ]
  },
  {
   "cell_type": "code",
   "execution_count": 13,
   "metadata": {},
   "outputs": [
    {
     "data": {
      "image/png": "[encoded data removed]",
      "text/plain": [
       "<Figure size 576x432 with 1 Axes>"
      ]
     },
     "metadata": {
      "needs_background": "light"
     },
     "output_type": "display_data"
    }
   ],
   "source": [
    "importantFeatures = bestModel.stages[-1].featureImportances.values\n",
    "cols = ['totSubscriptionDays', 'avgSongsPerSession','totRollAdvertCount', 'totFriendCount','totThumpsUp', \\\n",
    "        'totThumpsDown','totalSongCount','totSongsAdded','gender']\n",
    "\n",
    "y_pos = np.arange(len(cols))\n",
    "plt.figure(figsize=(8,6))\n",
    "plt.barh(y_pos,importantFeatures)\n",
    "plt.yticks(y_pos, cols)\n",
    "plt.grid()\n",
    "plt.xlabel('Score')\n",
    "plt.title('Feature Importances');\n",
    "plt.savefig('featImportance_medium.png')"
   ]
  }
 ],
 "metadata": {
  "kernelspec": {
   "display_name": "Python 3.6 with Spark",
   "language": "python3",
   "name": "python36"
  },
  "language_info": {
   "codemirror_mode": {
    "name": "ipython",
    "version": 3
   },
   "file_extension": ".py",
   "mimetype": "text/x-python",
   "name": "python",
   "nbconvert_exporter": "python",
   "pygments_lexer": "ipython3",
   "version": "3.6.8"
  },
  "latex_envs": {
   "LaTeX_envs_menu_present": true,
   "autoclose": false,
   "autocomplete": true,
   "bibliofile": "biblio.bib",
   "cite_by": "apalike",
   "current_citInitial": 1,
   "eqLabelWithNumbers": true,
   "eqNumInitial": 1,
   "hotkeys": {
    "equation": "Ctrl-E",
    "itemize": "Ctrl-I"
   },
   "labels_anchors": false,
   "latex_user_defs": false,
   "report_style_numbering": false,
   "user_envs_cfg": false
  },
  "toc": {
   "base_numbering": 1,
   "nav_menu": {},
   "number_sections": true,
   "sideBar": true,
   "skip_h1_title": false,
   "title_cell": "Table of Contents",
   "title_sidebar": "Contents",
   "toc_cell": false,
   "toc_position": {},
   "toc_section_display": true,
   "toc_window_display": false
  }
 },
 "nbformat": 4,
 "nbformat_minor": 1
}
